{
 "cells": [
  {
   "cell_type": "markdown",
   "metadata": {},
   "source": [
    "# Python Classics Cookbook\n",
    "by Patrick J. Burns"
   ]
  },
  {
   "cell_type": "markdown",
   "metadata": {},
   "source": [
    "### 1. Replace macrons"
   ]
  },
  {
   "cell_type": "markdown",
   "metadata": {},
   "source": [
    "**Problem**: You want to remove all of the macrons from a string, like the following sentence from Caesar's *Bellum Gallicum*."
   ]
  },
  {
   "cell_type": "code",
   "execution_count": 1,
   "metadata": {},
   "outputs": [],
   "source": [
    "text_with_macrons = \"\"\"Gallia est omnis dīvīsa in partēs trēs, quārum ūnam incolunt Belgae, aliam Aquītānī, tertiam quī ipsōrum linguā Celtae, nostrā Gallī appellantur.\"\"\""
   ]
  },
  {
   "cell_type": "markdown",
   "metadata": {},
   "source": [
    "Here are three methods for removing macrons: 1. with ```replace```; 2. with ```re.sub```; and 3. with ```translate```. Click [here](#remove_macrons_best) for the TLDR best solution."
   ]
  },
  {
   "cell_type": "markdown",
   "metadata": {},
   "source": [
    "#### string ```replace```"
   ]
  },
  {
   "cell_type": "code",
   "execution_count": 2,
   "metadata": {},
   "outputs": [
    {
     "name": "stdout",
     "output_type": "stream",
     "text": [
      "dīvīsa > divisa\n",
      "Aquītānī > Aquitani\n"
     ]
    }
   ],
   "source": [
    "# simple replacement\n",
    "\n",
    "word = 'dīvīsa'\n",
    "word_without_macrons = word.replace('ī', 'i')\n",
    "print(f\"{word} > {word_without_macrons}\")\n",
    "\n",
    "word = 'Aquītānī'\n",
    "word_without_macrons = word.replace('ā', 'a').replace('ī', 'i')\n",
    "print(f\"{word} > {word_without_macrons}\")"
   ]
  },
  {
   "cell_type": "markdown",
   "metadata": {},
   "source": [
    "It would be tedious to chain together enough ```replace``` methods to solve this problem. So, we could create a dictionary of replacement patterns and loop over them, replacing the text with each pass."
   ]
  },
  {
   "cell_type": "code",
   "execution_count": 3,
   "metadata": {},
   "outputs": [
    {
     "name": "stdout",
     "output_type": "stream",
     "text": [
      "{'ā': 'a', 'ē': 'e', 'ī': 'i', 'ō': 'o', 'ū': 'u', 'ȳ': 'y', 'Ā': 'A', 'Ē': 'E', 'Ī': 'I', 'Ō': 'O', 'Ū': 'U', 'Ȳ': 'Y'}\n"
     ]
    }
   ],
   "source": [
    "# create dictionary of macrons\n",
    "\n",
    "macron_map = {\n",
    "    'ā': 'a', \n",
    "    'ē': 'e', \n",
    "    'ī': 'i', \n",
    "    'ō': 'o', \n",
    "    'ū': 'u',\n",
    "    'ȳ': 'y',\n",
    "    'Ā': 'A',\n",
    "    'Ē': 'E', \n",
    "    'Ī': 'I', \n",
    "    'Ō': 'O', \n",
    "    'Ū': 'U',\n",
    "    'Ȳ': 'Y'\n",
    "}\n",
    "\n",
    "# compact method with dictionary comprehension\n",
    "\n",
    "vowels = 'aeiouyAEIOUY'\n",
    "vowels_with_macrons = 'āēīōūȳĀĒĪŌŪȲ'\n",
    "macron_map = {k: v for k, v in zip(vowels_with_macrons, vowels)}    \n",
    "\n",
    "print(macron_map)"
   ]
  },
  {
   "cell_type": "code",
   "execution_count": 4,
   "metadata": {},
   "outputs": [
    {
     "name": "stdout",
     "output_type": "stream",
     "text": [
      "Gallia est omnis divisa in partes tres, quarum unam incolunt Belgae, aliam Aquitani, tertiam qui ipsorum lingua Celtae, nostra Galli appellantur.\n"
     ]
    }
   ],
   "source": [
    "# replace by iterating over dictionary\n",
    "\n",
    "text_without_macrons = text_with_macrons\n",
    "\n",
    "for k, v in macron_map.items():\n",
    "    text_without_macrons = text_without_macrons.replace(k, v)\n",
    "    \n",
    "print(text_without_macrons)"
   ]
  },
  {
   "cell_type": "code",
   "execution_count": 5,
   "metadata": {},
   "outputs": [],
   "source": [
    "# function for replace by iterating over dictionary\n",
    "\n",
    "def replace_macrons_1(text_with_macrons, replacement_dictionary):\n",
    "    text_without_macrons = text_with_macrons\n",
    "    for k, v in replacement_dictionary.items():\n",
    "        text_without_macrons = text_without_macrons.replace(k, v)    \n",
    "    return text_without_macrons"
   ]
  },
  {
   "cell_type": "code",
   "execution_count": 9,
   "metadata": {},
   "outputs": [
    {
     "name": "stdout",
     "output_type": "stream",
     "text": [
      "CPU times: user 4 µs, sys: 1 µs, total: 5 µs\n",
      "Wall time: 8.82 µs\n"
     ]
    },
    {
     "data": {
      "text/plain": [
       "'Gallia est omnis divisa in partes tres, quarum unam incolunt Belgae, aliam Aquitani, tertiam qui ipsorum lingua Celtae, nostra Galli appellantur.'"
      ]
     },
     "execution_count": 9,
     "metadata": {},
     "output_type": "execute_result"
    }
   ],
   "source": [
    "%time\n",
    "replace_macrons_1(text_with_macrons, macron_map)"
   ]
  },
  {
   "cell_type": "markdown",
   "metadata": {},
   "source": [
    "#### replacement with regular expressions"
   ]
  },
  {
   "cell_type": "markdown",
   "metadata": {},
   "source": [
    "Another option would be to do the same thing with regular expressions instead of ```replace``..."
   ]
  },
  {
   "cell_type": "code",
   "execution_count": 7,
   "metadata": {},
   "outputs": [],
   "source": [
    "# function for re.sub by iterating over dictionary\n",
    "\n",
    "import re\n",
    "\n",
    "def remove_macrons_2(text_with_macrons, replacement_dictionary):\n",
    "    text_without_macrons = text_with_macrons\n",
    "    for k, v in replacement_dictionary.items():\n",
    "        text_without_macrons = re.sub(rf'{k}', v, text_without_macrons, flags=re.MULTILINE)\n",
    "    return text_without_macrons"
   ]
  },
  {
   "cell_type": "code",
   "execution_count": 10,
   "metadata": {},
   "outputs": [
    {
     "name": "stdout",
     "output_type": "stream",
     "text": [
      "CPU times: user 4 µs, sys: 0 ns, total: 4 µs\n",
      "Wall time: 9.3 µs\n"
     ]
    },
    {
     "data": {
      "text/plain": [
       "'Gallia est omnis divisa in partes tres, quarum unam incolunt Belgae, aliam Aquitani, tertiam qui ipsorum lingua Celtae, nostra Galli appellantur.'"
      ]
     },
     "execution_count": 10,
     "metadata": {},
     "output_type": "execute_result"
    }
   ],
   "source": [
    "%time\n",
    "remove_macrons_2(text_with_macrons, macron_map)"
   ]
  },
  {
   "cell_type": "markdown",
   "metadata": {},
   "source": [
    "For a single sentence, this turns out to take about the same amount of time to run (not so with larger texts, as we see below)."
   ]
  },
  {
   "cell_type": "markdown",
   "metadata": {},
   "source": [
    "#### replacement with ```translate```"
   ]
  },
  {
   "cell_type": "markdown",
   "metadata": {},
   "source": [
    "Another option is the ```translate``` method. This allows us to make all changes using a translation table without having to loop repeated over the original string."
   ]
  },
  {
   "cell_type": "code",
   "execution_count": 22,
   "metadata": {},
   "outputs": [
    {
     "name": "stdout",
     "output_type": "stream",
     "text": [
      "{257: 'a', 275: 'e', 299: 'i', 333: 'o', 363: 'u', 563: 'y', 256: 'A', 274: 'E', 298: 'I', 332: 'O', 362: 'U', 562: 'Y'}\n"
     ]
    }
   ],
   "source": [
    "# compact method with dictionary comprehension\n",
    "# note that translate uses ```ord```, i.e. the Unicode code point for each mapped character\n",
    "\n",
    "vowels = 'aeiouyAEIOUY'\n",
    "vowels_with_macrons = 'āēīōūȳĀĒĪŌŪȲ'\n",
    "macron_table = {ord(k): v for k, v in zip(vowels_with_macrons, vowels)}    \n",
    "\n",
    "print(macron_table)"
   ]
  },
  {
   "cell_type": "code",
   "execution_count": 23,
   "metadata": {},
   "outputs": [],
   "source": [
    "# function for replacing macrons with translate\n",
    "\n",
    "def remove_macrons_3(text_with_macrons, macron_table):\n",
    "    text_without_macrons = text_with_macrons.translate(macron_table)\n",
    "    return text_without_macrons"
   ]
  },
  {
   "cell_type": "code",
   "execution_count": 24,
   "metadata": {},
   "outputs": [
    {
     "name": "stdout",
     "output_type": "stream",
     "text": [
      "CPU times: user 4 µs, sys: 1 µs, total: 5 µs\n",
      "Wall time: 9.06 µs\n"
     ]
    },
    {
     "data": {
      "text/plain": [
       "'Gallia est omnis divisa in partes tres, quarum unam incolunt Belgae, aliam Aquitani, tertiam qui ipsorum lingua Celtae, nostra Galli appellantur.'"
      ]
     },
     "execution_count": 24,
     "metadata": {},
     "output_type": "execute_result"
    }
   ],
   "source": [
    "%time\n",
    "remove_macrons_3(text_with_macrons, macron_ord_map)"
   ]
  },
  {
   "cell_type": "markdown",
   "metadata": {},
   "source": [
    "#### Testing recipes on larger texts"
   ]
  },
  {
   "cell_type": "markdown",
   "metadata": {},
   "source": [
    "All three methods run at about the same speed on a single sentence. But minor differences can add up as the amount of text to be processed increased. How do these recipes perform on larger texts?"
   ]
  },
  {
   "cell_type": "code",
   "execution_count": 25,
   "metadata": {},
   "outputs": [
    {
     "name": "stdout",
     "output_type": "stream",
     "text": [
      "Gallia est omnis dīvīsa in partēs trēs, quārum ūnam incolunt Belgae, aliam Aquītānī, tertiam quī ipsōrum linguā Celtae, nostrā Gallī appellantur.\n"
     ]
    }
   ],
   "source": [
    "# Get sample text with macrons\n",
    "# Here we'll use the Dickinson College Commentaries text of Caesar's *Bellum Gallicum* (which has macrons!) as found in conventus-lex's github repo for Maccer.\n",
    "\n",
    "from requests_html import HTMLSession\n",
    "session = HTMLSession()\n",
    "url = 'https://raw.githubusercontent.com/conventus-lex/maccer/master/sources/DCC/Caesar%20-%20Selections%20from%20the%20Gallic%20War.txt'\n",
    "r = session.get(url)\n",
    "test = r.text\n",
    "test = test[test.find('1.1'):] # remove 'metadata'\n",
    "test = re.sub(r'\\d\\.\\d+', '', test) # remove chapter headings, e.g. 1.1\n",
    "print(test[2:147]) # print sample"
   ]
  },
  {
   "cell_type": "code",
   "execution_count": 28,
   "metadata": {},
   "outputs": [
    {
     "name": "stdout",
     "output_type": "stream",
     "text": [
      "This text has 6399 words.\n"
     ]
    }
   ],
   "source": [
    "print(f'This text has {len(test.split())} words.')"
   ]
  },
  {
   "cell_type": "markdown",
   "metadata": {},
   "source": [
    "Here are the results of timeit on my iMac 2.7 GHz Intel Core i5..."
   ]
  },
  {
   "cell_type": "code",
   "execution_count": 13,
   "metadata": {},
   "outputs": [
    {
     "name": "stdout",
     "output_type": "stream",
     "text": [
      "1000 loops, best of 3: 323 µs per loop\n"
     ]
    }
   ],
   "source": [
    "%timeit -n 1000 replace_macrons_1(test, macron_map)"
   ]
  },
  {
   "cell_type": "code",
   "execution_count": 14,
   "metadata": {},
   "outputs": [
    {
     "name": "stdout",
     "output_type": "stream",
     "text": [
      "1000 loops, best of 3: 2.13 ms per loop\n"
     ]
    }
   ],
   "source": [
    "%timeit -n 1000 remove_macrons_2(test, macron_map)"
   ]
  },
  {
   "cell_type": "code",
   "execution_count": 29,
   "metadata": {},
   "outputs": [
    {
     "name": "stdout",
     "output_type": "stream",
     "text": [
      "1000 loops, best of 3: 4.92 ms per loop\n"
     ]
    }
   ],
   "source": [
    "%timeit -n 1000 remove_macrons_3(test, macron_ord_map)"
   ]
  },
  {
   "cell_type": "markdown",
   "metadata": {},
   "source": [
    "The string method ```replace``` even with the multiple passes over the string is much faster than the other two methods."
   ]
  },
  {
   "cell_type": "markdown",
   "metadata": {},
   "source": [
    "#### Warning about combining characters"
   ]
  },
  {
   "cell_type": "markdown",
   "metadata": {},
   "source": [
    "Before wrapping up a discussion about string replacement and unicode characters with diacriticals, it seems like a good time to mention decomposed and precomposed unicode characters. Note the following behavior."
   ]
  },
  {
   "cell_type": "code",
   "execution_count": 31,
   "metadata": {},
   "outputs": [
    {
     "name": "stdout",
     "output_type": "stream",
     "text": [
      "6\n"
     ]
    }
   ],
   "source": [
    "word1 = 'dīvīsa'\n",
    "print(len(word1))"
   ]
  },
  {
   "cell_type": "code",
   "execution_count": 32,
   "metadata": {},
   "outputs": [
    {
     "name": "stdout",
     "output_type": "stream",
     "text": [
      "8\n"
     ]
    }
   ],
   "source": [
    "word2 = 'dīvīsa'\n",
    "print(len(word2))"
   ]
  },
  {
   "cell_type": "code",
   "execution_count": 34,
   "metadata": {},
   "outputs": [
    {
     "name": "stdout",
     "output_type": "stream",
     "text": [
      "False\n"
     ]
    }
   ],
   "source": [
    "print(word1 == word2)"
   ]
  },
  {
   "cell_type": "markdown",
   "metadata": {},
   "source": [
    "These strings are not the same—word2 contains two decomposed lower-case-i-with-macrons."
   ]
  },
  {
   "cell_type": "code",
   "execution_count": 38,
   "metadata": {},
   "outputs": [
    {
     "name": "stdout",
     "output_type": "stream",
     "text": [
      "b'd\\\\u012bv\\\\u012bsa'\n",
      "b'di\\\\u0304vi\\\\u0304sa'\n"
     ]
    }
   ],
   "source": [
    "print(word1.encode('unicode-escape'))\n",
    "print(word2.encode('unicode-escape'))"
   ]
  },
  {
   "cell_type": "markdown",
   "metadata": {},
   "source": [
    "It seems like a good idea to handle these differences before attempting to replace characters. We can use unicodedata.normalize to convert all strings for replacement to Normalization Form C (NFC) before processing."
   ]
  },
  {
   "cell_type": "code",
   "execution_count": 39,
   "metadata": {},
   "outputs": [
    {
     "name": "stdout",
     "output_type": "stream",
     "text": [
      "6\n"
     ]
    }
   ],
   "source": [
    "import unicodedata\n",
    "word2 = unicodedata.normalize('NFC', word2)\n",
    "print(len(word2))"
   ]
  },
  {
   "cell_type": "code",
   "execution_count": 40,
   "metadata": {},
   "outputs": [],
   "source": [
    "# function with NFC preprocessing\n",
    "\n",
    "def replace_macrons_1b(text_with_macrons, replacement_dictionary):\n",
    "    text_without_macrons = unicodedata.normalize('NFC', text_with_macrons)\n",
    "    for k, v in replacement_dictionary.items():\n",
    "        text_without_macrons = text_without_macrons.replace(k, v)    \n",
    "    return text_without_macrons"
   ]
  },
  {
   "cell_type": "code",
   "execution_count": 41,
   "metadata": {},
   "outputs": [
    {
     "name": "stdout",
     "output_type": "stream",
     "text": [
      "CPU times: user 4 µs, sys: 1 µs, total: 5 µs\n",
      "Wall time: 10 µs\n"
     ]
    },
    {
     "data": {
      "text/plain": [
       "'Gallia est omnis divisa in partes tres, quarum unam incolunt Belgae, aliam Aquitani, tertiam qui ipsorum lingua Celtae, nostra Galli appellantur.'"
      ]
     },
     "execution_count": 41,
     "metadata": {},
     "output_type": "execute_result"
    }
   ],
   "source": [
    "%time\n",
    "replace_macrons_1b(text_with_macrons, macron_map)"
   ]
  },
  {
   "cell_type": "markdown",
   "metadata": {},
   "source": [
    "#### <a id='remove_macrons_best'>Replace Macrons: Best solution</a>"
   ]
  },
  {
   "cell_type": "markdown",
   "metadata": {},
   "source": [
    "Putting it all together we have the following function that we can use for macron replacement."
   ]
  },
  {
   "cell_type": "code",
   "execution_count": 43,
   "metadata": {},
   "outputs": [],
   "source": [
    "import unicodedata\n",
    "\n",
    "def replace_macrons(text_with_macrons):\n",
    "    '''Replace macrons in Latin text'''\n",
    "    vowels = 'aeiouyAEIOUY'\n",
    "    vowels_with_macrons = 'āēīōūȳĀĒĪŌŪȲ'\n",
    "    replacement_dictionary = {k: v for k, v in zip(vowels_with_macrons, vowels)}    \n",
    "    \n",
    "    temp = unicodedata.normalize('NFC', text_with_macrons)\n",
    "\n",
    "    for k, v in replacement_dictionary.items():\n",
    "        temp = temp.replace(k, v)\n",
    "    else:\n",
    "        temp = text_without_macrons\n",
    "\n",
    "    return text_without_macrons"
   ]
  },
  {
   "cell_type": "code",
   "execution_count": 44,
   "metadata": {},
   "outputs": [
    {
     "name": "stdout",
     "output_type": "stream",
     "text": [
      "1000 loops, best of 3: 415 µs per loop\n"
     ]
    }
   ],
   "source": [
    "%timeit -n 1000 replace_macrons(test)"
   ]
  },
  {
   "cell_type": "code",
   "execution_count": 28,
   "metadata": {},
   "outputs": [
    {
     "name": "stdout",
     "output_type": "stream",
     "text": [
      "Gallia est omnis divisa in partes tres, quarum unam incolunt Belgae, aliam Aquitani, tertiam qui ipsorum lingua Celtae, nostra Galli appellantur.\n"
     ]
    }
   ],
   "source": [
    "print(replace_macrons(test)[:147])"
   ]
  },
  {
   "cell_type": "markdown",
   "metadata": {},
   "source": [
    "So, slightly slower with normalization, but still faster than other methods."
   ]
  },
  {
   "cell_type": "markdown",
   "metadata": {},
   "source": [
    "Please open issue for any problems you see with the code. You can also use issues, if you would like to suggest another Python solution for any of the recipes you see in this notebook."
   ]
  }
 ],
 "metadata": {
  "kernelspec": {
   "display_name": "Python 3",
   "language": "python",
   "name": "python3"
  },
  "language_info": {
   "codemirror_mode": {
    "name": "ipython",
    "version": 3
   },
   "file_extension": ".py",
   "mimetype": "text/x-python",
   "name": "python",
   "nbconvert_exporter": "python",
   "pygments_lexer": "ipython3",
   "version": "3.6.5"
  }
 },
 "nbformat": 4,
 "nbformat_minor": 2
}
